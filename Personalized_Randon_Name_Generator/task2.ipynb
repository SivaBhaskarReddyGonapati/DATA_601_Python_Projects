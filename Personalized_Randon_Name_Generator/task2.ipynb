{
 "cells": [
  {
   "cell_type": "markdown",
   "id": "f1226cc5",
   "metadata": {},
   "source": [
    "For this task I am considering Fillipino culture naming convention(Philippines country).\n",
    "\n",
    "\"The history of Spanish and American colonisation in the Philippines has led Filipino naming conventions \n",
    "to be heavily influenced by both Spanish and Western practices. Filipino names follow the Spanish tradition\n",
    "of using both paternal and maternal surnames, while structuring names according to the Western name order of \n",
    "first name, middle name and surname.\"\n",
    "\n",
    "In Fillipino culture Generally name consists of three parts first_name, middle_name, last_name same as western style but as fillipino naming convention  is mix of both spanish and western naming convention what goes in middle_name and last_name is according to spanish tradion.\n",
    "\n",
    "--> The first_name is identifier name or personal name given to boy or girl at birth<br>\n",
    "--> The middle_name is the Mother's family name<br>\n",
    "--> The last_name is the Father's family name<br>\n",
    "\n",
    "<b> Full Name = First Name +  Mother's Family Name +  Father's Family Name <b>\n",
    "\n",
    "By using both Mother's and Father's family names in their names people will be equally attached to both side families.\n",
    "\n",
    "<b>References :<b>\n",
    "\n",
    "I took above information from the website<br>\n",
    "URL: https://culturalatlas.sbs.com.au/filipino-culture/filipino-culture-naming\n",
    "\n",
    "\n",
    "Data of 10 popular fillipino male, female, family names gathered from below websites respectively: <br>\n",
    "\n",
    "URL: https://www.pampers.com/en-us/pregnancy/baby-names/article/filipino-boy-names <br>\n",
    "URL: https://www.pampers.com/en-us/pregnancy/baby-names/article/filipino-girl-names <br>\n",
    "URL: https://www.tagaloglang.com/most-common-filipino-surnames/"
   ]
  },
  {
   "cell_type": "code",
   "execution_count": 1,
   "id": "ad72b33b",
   "metadata": {},
   "outputs": [],
   "source": [
    "import random\n",
    "\n",
    "# Read names from file\n",
    "with open('Philippines_names.txt', 'r') as f:\n",
    "    #loading names data to content list and splited data based on '\\n\\n' as male names, female names, maternal surnames and parental surname are seperated by '\\n\\n'\n",
    "    content = f.read().strip().split('\\n\\n')\n",
    "    #in every list first index is sliced as its a heading in file to represent which names are those\n",
    "    #fetching male names from content list and split them based on '\\n' as each male name is seperated by '\\n'\n",
    "    male_names = content[0].strip().split('\\n')[1:]\n",
    "    #fetching female names from content list and split them based on '\\n' as each female name is seperated by '\\n'\n",
    "    female_names = content[1].strip().split('\\n')[1:]\n",
    "    #fetching maternal surnames names from content list and split them based on '\\n' as each maternal surnames name is seperated by '\\n'\n",
    "    maternal_surnames = content[2].strip().split('\\n')[1:]\n",
    "    #fetching paternal surnames names from content list and split them based on '\\n' as each paternal surnames name is seperated by '\\n'\n",
    "    paternal_surnames = content[3].strip().split('\\n')[1:]"
   ]
  },
  {
   "cell_type": "code",
   "execution_count": 2,
   "id": "4e7f7ad2",
   "metadata": {},
   "outputs": [],
   "source": [
    "#function to generate random name based on gender\n",
    "def generateName(gender):\n",
    "    #generating name for male gender\n",
    "    if gender == 'male':\n",
    "        #generating randon male name, maternal surname, paternal surname\n",
    "        male_name = random.choice(male_names)\n",
    "        maternal_surname = random.choice(maternal_surnames)\n",
    "        paternal_surname = random.choice(paternal_surnames)\n",
    "        #returning male full name\n",
    "        return male_name+' '+maternal_surname+' '+paternal_surname\n",
    "    #generating name for male gender\n",
    "    elif gender == 'female':\n",
    "        #generating randon female name, maternal surname, paternal surname\n",
    "        female_name = random.choice(female_names)\n",
    "        maternal_surname = random.choice(maternal_surnames)\n",
    "        paternal_surname = random.choice(paternal_surnames)\n",
    "        #returning female full name\n",
    "        return female_name+' '+maternal_surname+' '+paternal_surname\n",
    "    "
   ]
  },
  {
   "cell_type": "code",
   "execution_count": 3,
   "id": "4bcd0601",
   "metadata": {},
   "outputs": [
    {
     "name": "stdout",
     "output_type": "stream",
     "text": [
      "Random Philippine Name Generator\n",
      "************************\n",
      "1. Generate a Male name\n",
      "2. Generate a Female name\n",
      "3. Exit\n",
      "Enter a number: 1\n",
      "The generator has returned: Kyle Ocampo Villanueva\n",
      "1. Generate a Male name\n",
      "2. Generate a Female name\n",
      "3. Exit\n",
      "Enter a number: 2\n",
      "The generator has returned: Jasmine Torres Castillo\n",
      "1. Generate a Male name\n",
      "2. Generate a Female name\n",
      "3. Exit\n",
      "Enter a number: 3\n"
     ]
    }
   ],
   "source": [
    "#CLI to generate random Philippine name\n",
    "print('Random Philippine Name Generator')\n",
    "print('************************')\n",
    "while True:\n",
    "    #Options of CLI\n",
    "    print('1. Generate a Male name\\n2. Generate a Female name\\n3. Exit')\n",
    "    choice = input('Enter a number: ')\n",
    "    if choice == '1':\n",
    "        #option 1 to generate male fillipino names\n",
    "        FillipinoMaleName = generateName('male')\n",
    "        print('The generator has returned: '+FillipinoMaleName)\n",
    "    elif choice == '2':\n",
    "        #option 2 to generate female fillipino names\n",
    "        FillipinoFemaleName = generateName('female')\n",
    "        print('The generator has returned: '+FillipinoFemaleName)\n",
    "    elif choice == '3':\n",
    "        #to break the CLI loop\n",
    "        break\n",
    "    else:\n",
    "        #if user enters invalid option\n",
    "        print('Invalid choice. Please try again.')"
   ]
  },
  {
   "cell_type": "code",
   "execution_count": null,
   "id": "2ea77563",
   "metadata": {},
   "outputs": [],
   "source": []
  }
 ],
 "metadata": {
  "kernelspec": {
   "display_name": "Python 3 (ipykernel)",
   "language": "python",
   "name": "python3"
  },
  "language_info": {
   "codemirror_mode": {
    "name": "ipython",
    "version": 3
   },
   "file_extension": ".py",
   "mimetype": "text/x-python",
   "name": "python",
   "nbconvert_exporter": "python",
   "pygments_lexer": "ipython3",
   "version": "3.9.13"
  }
 },
 "nbformat": 4,
 "nbformat_minor": 5
}
