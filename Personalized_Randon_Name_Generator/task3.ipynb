{
 "cells": [
  {
   "cell_type": "code",
   "execution_count": 1,
   "id": "81b0cbc4",
   "metadata": {},
   "outputs": [
    {
     "name": "stdout",
     "output_type": "stream",
     "text": [
      "Requirement already satisfied: import-ipynb in /Users/sivabhaskar/opt/anaconda3/lib/python3.9/site-packages (0.1.4)\n",
      "Requirement already satisfied: IPython in /Users/sivabhaskar/opt/anaconda3/lib/python3.9/site-packages (from import-ipynb) (7.31.1)\n",
      "Requirement already satisfied: nbformat in /Users/sivabhaskar/opt/anaconda3/lib/python3.9/site-packages (from import-ipynb) (5.5.0)\n",
      "Requirement already satisfied: prompt-toolkit!=3.0.0,!=3.0.1,<3.1.0,>=2.0.0 in /Users/sivabhaskar/opt/anaconda3/lib/python3.9/site-packages (from IPython->import-ipynb) (3.0.20)\n",
      "Requirement already satisfied: appnope in /Users/sivabhaskar/opt/anaconda3/lib/python3.9/site-packages (from IPython->import-ipynb) (0.1.2)\n",
      "Requirement already satisfied: pickleshare in /Users/sivabhaskar/opt/anaconda3/lib/python3.9/site-packages (from IPython->import-ipynb) (0.7.5)\n",
      "Requirement already satisfied: traitlets>=4.2 in /Users/sivabhaskar/opt/anaconda3/lib/python3.9/site-packages (from IPython->import-ipynb) (5.1.1)\n",
      "Requirement already satisfied: matplotlib-inline in /Users/sivabhaskar/opt/anaconda3/lib/python3.9/site-packages (from IPython->import-ipynb) (0.1.6)\n",
      "Requirement already satisfied: decorator in /Users/sivabhaskar/opt/anaconda3/lib/python3.9/site-packages (from IPython->import-ipynb) (5.1.1)\n",
      "Requirement already satisfied: pygments in /Users/sivabhaskar/opt/anaconda3/lib/python3.9/site-packages (from IPython->import-ipynb) (2.11.2)\n",
      "Requirement already satisfied: setuptools>=18.5 in /Users/sivabhaskar/opt/anaconda3/lib/python3.9/site-packages (from IPython->import-ipynb) (63.4.1)\n",
      "Requirement already satisfied: jedi>=0.16 in /Users/sivabhaskar/opt/anaconda3/lib/python3.9/site-packages (from IPython->import-ipynb) (0.18.1)\n",
      "Requirement already satisfied: backcall in /Users/sivabhaskar/opt/anaconda3/lib/python3.9/site-packages (from IPython->import-ipynb) (0.2.0)\n",
      "Requirement already satisfied: pexpect>4.3 in /Users/sivabhaskar/opt/anaconda3/lib/python3.9/site-packages (from IPython->import-ipynb) (4.8.0)\n",
      "Requirement already satisfied: fastjsonschema in /Users/sivabhaskar/opt/anaconda3/lib/python3.9/site-packages (from nbformat->import-ipynb) (2.16.2)\n",
      "Requirement already satisfied: jupyter_core in /Users/sivabhaskar/opt/anaconda3/lib/python3.9/site-packages (from nbformat->import-ipynb) (4.11.1)\n",
      "Requirement already satisfied: jsonschema>=2.6 in /Users/sivabhaskar/opt/anaconda3/lib/python3.9/site-packages (from nbformat->import-ipynb) (4.16.0)\n",
      "Requirement already satisfied: parso<0.9.0,>=0.8.0 in /Users/sivabhaskar/opt/anaconda3/lib/python3.9/site-packages (from jedi>=0.16->IPython->import-ipynb) (0.8.3)\n",
      "Requirement already satisfied: pyrsistent!=0.17.0,!=0.17.1,!=0.17.2,>=0.14.0 in /Users/sivabhaskar/opt/anaconda3/lib/python3.9/site-packages (from jsonschema>=2.6->nbformat->import-ipynb) (0.18.0)\n",
      "Requirement already satisfied: attrs>=17.4.0 in /Users/sivabhaskar/opt/anaconda3/lib/python3.9/site-packages (from jsonschema>=2.6->nbformat->import-ipynb) (21.4.0)\n",
      "Requirement already satisfied: ptyprocess>=0.5 in /Users/sivabhaskar/opt/anaconda3/lib/python3.9/site-packages (from pexpect>4.3->IPython->import-ipynb) (0.7.0)\n",
      "Requirement already satisfied: wcwidth in /Users/sivabhaskar/opt/anaconda3/lib/python3.9/site-packages (from prompt-toolkit!=3.0.0,!=3.0.1,<3.1.0,>=2.0.0->IPython->import-ipynb) (0.2.5)\n",
      "zsh:1: command not found: pin\n"
     ]
    }
   ],
   "source": [
    "#installing required libraries\n",
    "#import-ipynb to import one ipynb file in another\n",
    "!pip install import-ipynb\n",
    "#anytree to create family tree by using node functions\n",
    "!pin install anytree"
   ]
  },
  {
   "cell_type": "code",
   "execution_count": 2,
   "id": "7abf9412",
   "metadata": {},
   "outputs": [
    {
     "name": "stdout",
     "output_type": "stream",
     "text": [
      "importing Jupyter notebook from task1.ipynb\n"
     ]
    }
   ],
   "source": [
    "#importing task1 file as we require EastCoastNames class to generate random names\n",
    "import import_ipynb\n",
    "from task1 import EastCoastNames"
   ]
  },
  {
   "cell_type": "code",
   "execution_count": 3,
   "id": "ee4bb09d",
   "metadata": {},
   "outputs": [
    {
     "name": "stdout",
     "output_type": "stream",
     "text": [
      "Random Family Tree Generator\n",
      "************************\n",
      "Elijah Rodriguez\n",
      "├── Luna Williams\n",
      "│   ├── Isabella White\n",
      "│   └── Elijah Miller\n",
      "└── Owen Johnson\n",
      "    ├── Oliver Gonzalez\n",
      "    └── Isabella Miller\n"
     ]
    }
   ],
   "source": [
    "import json\n",
    "import random\n",
    "#importing required functions from anytree library \n",
    "from anytree import Node, RenderTree, PreOrderIter\n",
    "\n",
    "print('Random Family Tree Generator')\n",
    "print('************************')\n",
    "#initializing EastCoastNames class\n",
    "ec_names = EastCoastNames()\n",
    "\n",
    "#create the top-level node (grandparent)\n",
    "#generating random name for grandparent using full name function from EastCoastNames class\n",
    "name, state, gender, last_state = ec_names.full_name(None, None)\n",
    "#creating top node for grandparent\n",
    "grandparent = Node(name)\n",
    "\n",
    "# create the second level nodes (parents)\n",
    "#generating random name for parent using full name function from EastCoastNames class\n",
    "name, state, gender, last_state = ec_names.full_name(None, None)\n",
    "#creating second level node for parent my making grandparent as parent node\n",
    "parent1 = Node(name, parent=grandparent)\n",
    "name, state, gender, last_state = ec_names.full_name(None, None)\n",
    "parent2 = Node(name, parent=grandparent)\n",
    "\n",
    "#create the third level nodes (grandchildren)\n",
    "#generating two children for each parent using full name function from EastCoastNames class\n",
    "for i in range(2):\n",
    "    name, state, gender, last_state = ec_names.full_name(None, None)\n",
    "    #creating third level node for parent1 my making parent1 as parent node\n",
    "    Node(name, parent=parent1)\n",
    "    #creating third level node for parent2 my making parent2 as parent node\n",
    "    name, state, gender, last_state = ec_names.full_name(None, None)\n",
    "    Node(name, parent=parent2)\n",
    "\n",
    "#print the family tree\n",
    "for pre, fill, node in RenderTree(grandparent):\n",
    "    print(\"%s%s\" % (pre, node.name))"
   ]
  },
  {
   "cell_type": "code",
   "execution_count": 4,
   "id": "37ac8e77",
   "metadata": {},
   "outputs": [
    {
     "name": "stdout",
     "output_type": "stream",
     "text": [
      "Enter the Grand Parent Name: \n",
      " (please enter Grand Parent Name generated in the above cell output to verify whether code is giving correct grand children name or not: )james\n",
      "No grandparent found with name james\n"
     ]
    }
   ],
   "source": [
    "#define a function to find grandchild names given grandparent name\n",
    "def find_grandchildren(grandparent_name):\n",
    "    #find the grandparent node\n",
    "    grandparent_node = None\n",
    "    for node in PreOrderIter(grandparent):\n",
    "        if node.name == grandparent_name:\n",
    "            grandparent_node = node\n",
    "            break\n",
    "    #if no grandparent is found\n",
    "    if grandparent_node is None:\n",
    "        print(f\"No grandparent found with name {grandparent_name}\")\n",
    "        return []\n",
    "    #find the grandchildren nodes\n",
    "    grandchildren = []\n",
    "    #looping through parent node\n",
    "    for parent_node in grandparent_node.children:\n",
    "        #looping through child node\n",
    "        for grandchild_node in parent_node.children:\n",
    "            grandchildren.append(grandchild_node.name)\n",
    "    return grandchildren\n",
    "\n",
    "#calling find_grandchildren function \n",
    "grandparent_name = input('Enter the Grand Parent Name: \\n (please enter Grand Parent Name generated in the above cell output to verify whether code is giving correct grand children name or not: )')\n",
    "grandchildren = find_grandchildren(grandparent_name)\n",
    "#printing grandchildern if found\n",
    "if len(grandchildren):\n",
    "    print(f\"Grandchildren of {grandparent_name}: {grandchildren}\")\n"
   ]
  },
  {
   "cell_type": "code",
   "execution_count": 5,
   "id": "102059e6",
   "metadata": {},
   "outputs": [
    {
     "name": "stdout",
     "output_type": "stream",
     "text": [
      "Enter the Grand Children Name: \n",
      " (please enter Grand children Name generated in the above cell output to verify whether code is giving correct grand parent name or not: )\n",
      "No grandchild found with name \n"
     ]
    }
   ],
   "source": [
    "#define a function to find grandparent name given grandchild name\n",
    "def find_grandparent(grandchild_name):\n",
    "    #find the grandchild node\n",
    "    grandchild_node = None\n",
    "    for node in PreOrderIter(grandparent):\n",
    "        if node.name == grandchild_name:\n",
    "            grandchild_node = node\n",
    "            break\n",
    "    #if no grandchildren is found\n",
    "    if grandchild_node is None:\n",
    "        print(f\"No grandchild found with name {grandchild_name}\")\n",
    "        return \"\"\n",
    "    #find the parent node of the grandchild\n",
    "    parent_node = grandchild_node.parent\n",
    "    if parent_node is None:\n",
    "        print(f\"No parent found for grandchild {grandchild_name}\")\n",
    "        return \"\"\n",
    "    #find the grandparent node of the grandchild\n",
    "    grandparent_node = parent_node.parent\n",
    "    if grandparent_node is None:\n",
    "        print(f\"No grandparent found for grandchild {grandchild_name}\")\n",
    "        return \"\"\n",
    "    return grandparent_node.name\n",
    "\n",
    "#calling find_grandparent to get the grandparent name by using grandchildren name\n",
    "grandchild_name = input('Enter the Grand Children Name: \\n (please enter Grand children Name generated in the above cell output to verify whether code is giving correct grand parent name or not: )')\n",
    "grandparent_name = find_grandparent(grandchild_name)\n",
    "if grandparent_name !=\"\":\n",
    "    print(f\"The grandparent of {grandchild_name} is {grandparent_name}\")"
   ]
  },
  {
   "cell_type": "code",
   "execution_count": null,
   "id": "656b90b3",
   "metadata": {},
   "outputs": [],
   "source": []
  }
 ],
 "metadata": {
  "kernelspec": {
   "display_name": "Python 3 (ipykernel)",
   "language": "python",
   "name": "python3"
  },
  "language_info": {
   "codemirror_mode": {
    "name": "ipython",
    "version": 3
   },
   "file_extension": ".py",
   "mimetype": "text/x-python",
   "name": "python",
   "nbconvert_exporter": "python",
   "pygments_lexer": "ipython3",
   "version": "3.9.13"
  }
 },
 "nbformat": 4,
 "nbformat_minor": 5
}
