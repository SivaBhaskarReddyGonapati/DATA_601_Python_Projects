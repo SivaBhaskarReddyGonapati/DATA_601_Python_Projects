{
 "cells": [
  {
   "cell_type": "markdown",
   "id": "1cb318ca",
   "metadata": {},
   "source": [
    "I have taken the top 10 popular first names, last names from the below websites: <br> \n",
    "\n",
    "First Names taken from this URL: https://www.ssa.gov/oact/babynames/state/  <br>\n",
    "Last Names taken from this URL: https://forebears.io/united-states/florida/surnames"
   ]
  },
  {
   "cell_type": "code",
   "execution_count": 1,
   "id": "481d6a5a",
   "metadata": {},
   "outputs": [],
   "source": [
    "import json\n",
    "import random\n",
    "\n",
    "#Creating class \n",
    "class EastCoastNames:\n",
    "    def __init__(self):\n",
    "        #opening json file which have names data\n",
    "        with open('names_data.json') as f:\n",
    "            #loading json file data\n",
    "            data = json.load(f)\n",
    "            #print('data',data)\n",
    "        #initializing empty dictionary to store names\n",
    "        self.names = {}\n",
    "        #looping through each state from loaded data\n",
    "        for state in data:\n",
    "            #print('states',state)\n",
    "            # Create a new empty dictionary for the current state in 'self.names' and convert the state name to lowercase\n",
    "            self.names[state.lower()] = {}\n",
    "            # Loop through each gender in the current state's data\n",
    "            for gender in data[state]:\n",
    "                #Adding names data based on gender and state to dictonary\n",
    "                self.names[state.lower()][gender.lower()] = data[state][gender]\n",
    "                #print('result',self.names[state.lower()][gender.lower()])\n",
    "        #print(list(self.names.keys()))\n",
    "\n",
    "    #function to get the first_name based on state and gender\n",
    "    def first_name(self, state, gender):\n",
    "        #if state is not given then random state is selected\n",
    "        if not state:\n",
    "            state = random.choice(list(self.names.keys()))\n",
    "        #if gender is not specified then random random is selected\n",
    "        if not gender:\n",
    "            gender = random.choice(['male', 'female'])\n",
    "        #if both state and gender is given data will be selected from that state and of that gender\n",
    "        name = random.choice(self.names[state][gender])\n",
    "        return name, state, gender\n",
    "    \n",
    "    #function to get the last_name based on state and gender\n",
    "    def last_name(self, state):\n",
    "        #if state is not given then random state is selected\n",
    "        if not state:\n",
    "            state = random.choice(list(self.names.keys()))\n",
    "        #if state is given data will be selected from that state \n",
    "        name = random.choice(self.names[state]['last'])\n",
    "        return name, state\n",
    "\n",
    "    #function to get the full_name based on state and gender\n",
    "    def full_name(self, state, gender):\n",
    "        #Calling first_name function to generate first name based on conditions\n",
    "        first, first_state, first_gender = self.first_name(state, gender)\n",
    "        #Calling last_name function to generate last name based on conditions\n",
    "        last, last_state = self.last_name(state)\n",
    "        #returning full name by combining both first name and last name generated above\n",
    "        return f'{first} {last}', first_state.title(), first_gender.title(), last_state.title()"
   ]
  },
  {
   "cell_type": "code",
   "execution_count": null,
   "id": "178a60a9",
   "metadata": {},
   "outputs": [
    {
     "name": "stdout",
     "output_type": "stream",
     "text": [
      "Random Name Generator\n",
      "************************\n",
      "1. Generate a first name\n",
      "2. Generate a last name\n",
      "3. Generate a complete name\n",
      "4. Exit\n"
     ]
    }
   ],
   "source": [
    "#Restricting only to execute in main file not in another imported file as we use this is file in task3\n",
    "if __name__ == '__main__':\n",
    "    #Generating CLI menu of random generator\n",
    "    print('Random Name Generator')\n",
    "    print('************************')\n",
    "    #initializing EastCoastNames class\n",
    "    ec_names = EastCoastNames()\n",
    "    while True:\n",
    "        #options of CLI menu\n",
    "        print('1. Generate a first name\\n2. Generate a last name\\n3. Generate a complete name\\n4. Exit')\n",
    "        choice = input('Enter a number: ')\n",
    "        if choice == '1':\n",
    "            #taking state and gender input from user \n",
    "            state = input('Enter the state name (or press enter for random): ').lower()\n",
    "            gender = input('Gender of the name (or press enter for random): ').lower()\n",
    "            #calling first_name funtion to generate first name\n",
    "            name, first_state, first_gender = ec_names.first_name(state, gender)\n",
    "            print(f'The generator has returned: {name} ({first_gender}, {first_state})')\n",
    "        elif choice == '2':\n",
    "            #taking state input from user\n",
    "            state = input('Enter the state name (or press enter for random): ').lower()\n",
    "            #calling last_name funtion to generate last name\n",
    "            name, last_state = ec_names.last_name(state)\n",
    "            print(f'The generator has returned: {name} ({last_state})')\n",
    "        elif choice == '3':\n",
    "            #taking state and gender input from user\n",
    "            state = input('Enter the state name (or press enter for random): ').lower()\n",
    "            gender = input('Gender of the name (or press enter for random): ').lower()\n",
    "            #calling full_name funtion to generate full name\n",
    "            name, first_state, first_gender, last_state = ec_names.full_name(state, gender)\n",
    "            print(f'The generator has returned: {name} ({first_gender}, {first_state}, {last_state})')\n",
    "        elif choice == '4':\n",
    "            #breaking loop to to exit from CLI menu\n",
    "            break\n",
    "        else:\n",
    "            #if wrong option is entered\n",
    "            print('Invalid choice. Please try again.')"
   ]
  },
  {
   "cell_type": "code",
   "execution_count": null,
   "id": "73420438",
   "metadata": {},
   "outputs": [],
   "source": []
  }
 ],
 "metadata": {
  "kernelspec": {
   "display_name": "Python 3 (ipykernel)",
   "language": "python",
   "name": "python3"
  },
  "language_info": {
   "codemirror_mode": {
    "name": "ipython",
    "version": 3
   },
   "file_extension": ".py",
   "mimetype": "text/x-python",
   "name": "python",
   "nbconvert_exporter": "python",
   "pygments_lexer": "ipython3",
   "version": "3.9.13"
  }
 },
 "nbformat": 4,
 "nbformat_minor": 5
}
