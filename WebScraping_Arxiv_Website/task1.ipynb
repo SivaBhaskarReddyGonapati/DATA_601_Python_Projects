{
 "cells": [
  {
   "cell_type": "markdown",
   "id": "6850e4a1",
   "metadata": {},
   "source": [
    ">>## Task 1\n",
    "Access Arxiv and get metadata (title, authors, summary etc) of all the papers from 2018 to 2022 and store in CSV file\n"
   ]
  },
  {
   "cell_type": "markdown",
   "id": "42a125c9",
   "metadata": {},
   "source": [
    "<b> Installing arxiv wrapper to access the data and perform required operations </b>"
   ]
  },
  {
   "cell_type": "code",
   "execution_count": 1,
   "id": "149a21ce",
   "metadata": {},
   "outputs": [
    {
     "name": "stdout",
     "output_type": "stream",
     "text": [
      "Requirement already satisfied: arxiv in /Users/sivabhaskar/opt/anaconda3/lib/python3.9/site-packages (1.4.7)\r\n",
      "Requirement already satisfied: feedparser in /Users/sivabhaskar/opt/anaconda3/lib/python3.9/site-packages (from arxiv) (6.0.10)\r\n",
      "Requirement already satisfied: sgmllib3k in /Users/sivabhaskar/opt/anaconda3/lib/python3.9/site-packages (from feedparser->arxiv) (1.0.0)\r\n"
     ]
    }
   ],
   "source": [
    "!pip install arxiv"
   ]
  },
  {
   "cell_type": "markdown",
   "id": "cba9c371",
   "metadata": {},
   "source": [
    "<b>Importing required libraries</b> "
   ]
  },
  {
   "cell_type": "code",
   "execution_count": 2,
   "id": "0ccf63df",
   "metadata": {},
   "outputs": [],
   "source": [
    "#importing required libraries \n",
    "import arxiv\n",
    "import csv\n",
    "import pandas as pd"
   ]
  },
  {
   "cell_type": "markdown",
   "id": "c7e6a056",
   "metadata": {},
   "source": [
    "<b>Code to extract the category data from arxiv</b>"
   ]
  },
  {
   "cell_type": "code",
   "execution_count": 3,
   "id": "6a4e06a5",
   "metadata": {},
   "outputs": [],
   "source": [
    "#defining the categories\n",
    "categories = [\"cs.DB\", \"cs.GR\", \"cs.RO\", \"cs.ET\"]\n",
    "\n",
    "#defining the list to store the metadata\n",
    "metadata_list = []\n",
    "\n",
    "#looping through the categories and retrieve the metadata for each category\n",
    "for category in categories:\n",
    "    fetched_results = arxiv.Client(\n",
    "        page_size=5000, delay_seconds=3, num_retries=3).results(\n",
    "            arxiv.Search(\n",
    "                query=category,\n",
    "                sort_order=arxiv.SortOrder.Descending,\n",
    "            ))\n",
    "    #print(\"In middle of the loop code running\")\n",
    "    #looping through the results and extract the metadata\n",
    "    for paper in fetched_results:\n",
    "        if (\n",
    "            int(paper.published.year) >= 2018\n",
    "            and int(paper.published.year) <= 2022\n",
    "            and paper.primary_category in categories\n",
    "        ):\n",
    "            metadata_list.append(\n",
    "                {\n",
    "                    'title': paper.title,\n",
    "                    'authors': paper.authors,\n",
    "                    'summary': paper.summary,\n",
    "                    'primary_category': paper.primary_category,\n",
    "                    'published_date': paper.published,\n",
    "                }\n",
    "            )\n",
    "            #print(\"Second loop running\")\n",
    "\n",
    "#print(\"Loop Completed\")"
   ]
  },
  {
   "cell_type": "markdown",
   "id": "9deb949b",
   "metadata": {},
   "source": [
    "<b>Storing the Extracted meta data into CSV file</b>"
   ]
  },
  {
   "cell_type": "code",
   "execution_count": 4,
   "id": "d145d930",
   "metadata": {},
   "outputs": [
    {
     "name": "stdout",
     "output_type": "stream",
     "text": [
      "Data entered into CSV file\n"
     ]
    }
   ],
   "source": [
    "#saving the list as dataframe\n",
    "df= pd.DataFrame(metadata_list)\n",
    "#saving the metadata dataframe to a CSV file\n",
    "df.to_csv('arxiv_metadata.csv',index=False)\n",
    "\n",
    "#print just to know whether execution was complete or not\n",
    "print(\"Data entered into CSV file\")"
   ]
  },
  {
   "cell_type": "markdown",
   "id": "c22d55a8",
   "metadata": {},
   "source": [
    "<b>Checking the results like how much data is stored</b>"
   ]
  },
  {
   "cell_type": "code",
   "execution_count": 5,
   "id": "25783035",
   "metadata": {},
   "outputs": [
    {
     "name": "stdout",
     "output_type": "stream",
     "text": [
      "17824\n"
     ]
    }
   ],
   "source": [
    "#priniting to know the size of the data\n",
    "print(len(df))"
   ]
  }
 ],
 "metadata": {
  "kernelspec": {
   "display_name": "Python 3 (ipykernel)",
   "language": "python",
   "name": "python3"
  },
  "language_info": {
   "codemirror_mode": {
    "name": "ipython",
    "version": 3
   },
   "file_extension": ".py",
   "mimetype": "text/x-python",
   "name": "python",
   "nbconvert_exporter": "python",
   "pygments_lexer": "ipython3",
   "version": "3.9.13"
  }
 },
 "nbformat": 4,
 "nbformat_minor": 5
}
