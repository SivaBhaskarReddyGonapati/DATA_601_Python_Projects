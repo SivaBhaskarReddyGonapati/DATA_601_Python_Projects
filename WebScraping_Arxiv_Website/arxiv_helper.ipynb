{
 "cells": [
  {
   "cell_type": "code",
   "execution_count": 1,
   "id": "fe7b2851",
   "metadata": {},
   "outputs": [],
   "source": [
    "import arxiv\n",
    "import json\n",
    "import time"
   ]
  },
  {
   "cell_type": "markdown",
   "id": "db318b50",
   "metadata": {},
   "source": [
    "(Credit for this Idea : <b>Harsh Shroff </b>)\n",
    "\n",
    "The <code>arxiv</code> package has another mode of operation with the <code>Client</code> class. In this you can specify number of retries delays etc without having to write and manage too much high-level code yourself. Does it take time? Yes, but it works in one go (per category).\n",
    "Here is how: \n",
    "1. Set the parameters as down below (large number of <code>page_size</code> is a must).\n",
    "2. in the query setting, put the category code\n",
    "3. collect the paper result in a list (see code below for example\n",
    "\n",
    "You will get some error on the basis of UnexpectedEmptyPageError, but <code>cat</code> will contain your desired information on all papers\n"
   ]
  },
  {
   "cell_type": "code",
   "execution_count": 6,
   "id": "ed507463",
   "metadata": {},
   "outputs": [],
   "source": [
    "results_generator = arxiv.Client(\n",
    "    page_size=5000, delay_seconds=3, num_retries=3).results(\n",
    "        arxiv.Search(\n",
    "            query='cs.RO',\n",
    "            sort_order=arxiv.SortOrder.Descending,\n",
    "        ))\n",
    "\n",
    "cat = []\n",
    "for paper in results_generator:\n",
    "    cat.append(paper)"
   ]
  },
  {
   "cell_type": "markdown",
   "id": "58a82beb",
   "metadata": {},
   "source": [
    "Once you get the answers, you can store the raw answer object as backup by [pickling](https://realpython.com/python-pickle-module/) (and loading them as needed). Then what you would do is:\n",
    "1. You will get a whole lot of papers in your results across all years, filter for years in 2018-2022.\n",
    "2. Filter out the desired category (say cs.AI) by <i>primary category</i> (the search categories looks if keyword is in secondary category also) and ignore papers where primary category is something else.\n",
    "3. Save the refined data and repeat procedure for other categories mentioned in the project."
   ]
  },
  {
   "cell_type": "code",
   "execution_count": 7,
   "id": "9278799b",
   "metadata": {},
   "outputs": [
    {
     "data": {
      "text/plain": [
       "24005"
      ]
     },
     "execution_count": 7,
     "metadata": {},
     "output_type": "execute_result"
    }
   ],
   "source": [
    "#Getting length of cat\n",
    "len(cat)"
   ]
  },
  {
   "cell_type": "code",
   "execution_count": 8,
   "id": "371ce41b",
   "metadata": {},
   "outputs": [
    {
     "data": {
      "text/plain": [
       "arxiv.Result(entry_id='http://arxiv.org/abs/2301.07799v1', updated=datetime.datetime(2023, 1, 18, 21, 58, 54, tzinfo=datetime.timezone.utc), published=datetime.datetime(2023, 1, 18, 21, 58, 54, tzinfo=datetime.timezone.utc), title='A Domain-Agnostic Approach for Characterization of Lifelong Learning Systems', authors=[arxiv.Result.Author('Megan M. Baker'), arxiv.Result.Author('Alexander New'), arxiv.Result.Author('Mario Aguilar-Simon'), arxiv.Result.Author('Ziad Al-Halah'), arxiv.Result.Author('Sébastien M. R. Arnold'), arxiv.Result.Author('Ese Ben-Iwhiwhu'), arxiv.Result.Author('Andrew P. Brna'), arxiv.Result.Author('Ethan Brooks'), arxiv.Result.Author('Ryan C. Brown'), arxiv.Result.Author('Zachary Daniels'), arxiv.Result.Author('Anurag Daram'), arxiv.Result.Author('Fabien Delattre'), arxiv.Result.Author('Ryan Dellana'), arxiv.Result.Author('Eric Eaton'), arxiv.Result.Author('Haotian Fu'), arxiv.Result.Author('Kristen Grauman'), arxiv.Result.Author('Jesse Hostetler'), arxiv.Result.Author('Shariq Iqbal'), arxiv.Result.Author('Cassandra Kent'), arxiv.Result.Author('Nicholas Ketz'), arxiv.Result.Author('Soheil Kolouri'), arxiv.Result.Author('George Konidaris'), arxiv.Result.Author('Dhireesha Kudithipudi'), arxiv.Result.Author('Erik Learned-Miller'), arxiv.Result.Author('Seungwon Lee'), arxiv.Result.Author('Michael L. Littman'), arxiv.Result.Author('Sandeep Madireddy'), arxiv.Result.Author('Jorge A. Mendez'), arxiv.Result.Author('Eric Q. Nguyen'), arxiv.Result.Author('Christine D. Piatko'), arxiv.Result.Author('Praveen K. Pilly'), arxiv.Result.Author('Aswin Raghavan'), arxiv.Result.Author('Abrar Rahman'), arxiv.Result.Author('Santhosh Kumar Ramakrishnan'), arxiv.Result.Author('Neale Ratzlaff'), arxiv.Result.Author('Andrea Soltoggio'), arxiv.Result.Author('Peter Stone'), arxiv.Result.Author('Indranil Sur'), arxiv.Result.Author('Zhipeng Tang'), arxiv.Result.Author('Saket Tiwari'), arxiv.Result.Author('Kyle Vedder'), arxiv.Result.Author('Felix Wang'), arxiv.Result.Author('Zifan Xu'), arxiv.Result.Author('Angel Yanguas-Gil'), arxiv.Result.Author('Harel Yedidsion'), arxiv.Result.Author('Shangqun Yu'), arxiv.Result.Author('Gautam K. Vallabha')], summary='Despite the advancement of machine learning techniques in recent years,\\nstate-of-the-art systems lack robustness to \"real world\" events, where the\\ninput distributions and tasks encountered by the deployed systems will not be\\nlimited to the original training context, and systems will instead need to\\nadapt to novel distributions and tasks while deployed. This critical gap may be\\naddressed through the development of \"Lifelong Learning\" systems that are\\ncapable of 1) Continuous Learning, 2) Transfer and Adaptation, and 3)\\nScalability. Unfortunately, efforts to improve these capabilities are typically\\ntreated as distinct areas of research that are assessed independently, without\\nregard to the impact of each separate capability on other aspects of the\\nsystem. We instead propose a holistic approach, using a suite of metrics and an\\nevaluation framework to assess Lifelong Learning in a principled way that is\\nagnostic to specific domains or system techniques. Through five case studies,\\nwe show that this suite of metrics can inform the development of varied and\\ncomplex Lifelong Learning systems. We highlight how the proposed suite of\\nmetrics quantifies performance trade-offs present during Lifelong Learning\\nsystem development - both the widely discussed Stability-Plasticity dilemma and\\nthe newly proposed relationship between Sample Efficient and Robust Learning.\\nFurther, we make recommendations for the formulation and use of metrics to\\nguide the continuing development of Lifelong Learning systems and assess their\\nprogress in the future.', comment='To appear in Neural Networks', journal_ref=None, doi='10.1016/j.neunet.2023.01.007', primary_category='cs.LG', categories=['cs.LG', 'cs.CV', 'cs.RO'], links=[arxiv.Result.Link('http://dx.doi.org/10.1016/j.neunet.2023.01.007', title='doi', rel='related', content_type=None), arxiv.Result.Link('http://arxiv.org/abs/2301.07799v1', title=None, rel='alternate', content_type=None), arxiv.Result.Link('http://arxiv.org/pdf/2301.07799v1', title='pdf', rel='related', content_type=None)])"
      ]
     },
     "execution_count": 8,
     "metadata": {},
     "output_type": "execute_result"
    }
   ],
   "source": [
    "#Second last paper in the result. This is of arxiv Result class from which you can extract\n",
    "#metadata in a manner similar to access_arxiv_paper (cell 3) Eg : cat[-2].entry_id, cat[-2].summary etc\n",
    "cat[-1]"
   ]
  },
  {
   "cell_type": "markdown",
   "id": "00d48e8b",
   "metadata": {},
   "source": []
  }
 ],
 "metadata": {
  "kernelspec": {
   "display_name": "Python 3 (ipykernel)",
   "language": "python",
   "name": "python3"
  },
  "language_info": {
   "codemirror_mode": {
    "name": "ipython",
    "version": 3
   },
   "file_extension": ".py",
   "mimetype": "text/x-python",
   "name": "python",
   "nbconvert_exporter": "python",
   "pygments_lexer": "ipython3",
   "version": "3.9.13"
  }
 },
 "nbformat": 4,
 "nbformat_minor": 5
}
