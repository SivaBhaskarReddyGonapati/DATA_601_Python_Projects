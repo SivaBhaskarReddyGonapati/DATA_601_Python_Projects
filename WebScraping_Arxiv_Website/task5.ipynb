{
 "cells": [
  {
   "cell_type": "markdown",
   "id": "3167da11",
   "metadata": {},
   "source": [
    ">>## Task 5 - Bonus Task\n",
    "Find the top 3 authors in cs.DB (Databases), cs.RO (Robotics) and cs.GR (Graphics) by number of papers on arxiv (between 2018 and 2022)"
   ]
  },
  {
   "cell_type": "markdown",
   "id": "95faa5e9",
   "metadata": {},
   "source": [
    "<b> Importing required libraries </b>"
   ]
  },
  {
   "cell_type": "code",
   "execution_count": 1,
   "id": "54f958bb",
   "metadata": {},
   "outputs": [],
   "source": [
    "#importing required libraries\n",
    "import pandas as pd"
   ]
  },
  {
   "cell_type": "markdown",
   "id": "2a822982",
   "metadata": {},
   "source": [
    "<b> Loading the data from the CSV </b>"
   ]
  },
  {
   "cell_type": "code",
   "execution_count": 2,
   "id": "58f51b66",
   "metadata": {},
   "outputs": [],
   "source": [
    "#loading the metadata from the CSV file\n",
    "metadata_df = pd.read_csv('arxiv_metadata.csv')"
   ]
  },
  {
   "cell_type": "markdown",
   "id": "98c78ce2",
   "metadata": {},
   "source": [
    "<b> Code to find top three authors in each category </b>"
   ]
  },
  {
   "cell_type": "code",
   "execution_count": 3,
   "id": "8fcffc42",
   "metadata": {},
   "outputs": [],
   "source": [
    "#defining the categories\n",
    "categories = [\"cs.DB\", \"cs.RO\", \"cs.GR\"]\n",
    "\n",
    "#initializing a dictionary to store the dataframes for each primary category\n",
    "category_dfs = {}\n",
    "#initializing a dictionary to store the top three author names for each primary category\n",
    "top_authors = {}\n",
    "\n",
    "#looping through the categories and creating the dataframes and extracting top autors\n",
    "for category in categories:\n",
    "    #creating dataframes for each category\n",
    "    category_dfs[category] = metadata_df[metadata_df['primary_category'] == category]\n",
    "    df = category_dfs[category]\n",
    "    #count of authors for each category\n",
    "    author_counts = df['authors'].str.split(',').explode().str.strip().value_counts()\n",
    "    #extracting only author name for the author column\n",
    "    author_names = [author.split(\"'\")[1] for author in author_counts.index]\n",
    "    #inserting top three authors data of each category into dictionary \n",
    "    top_authors[category] = author_names[:3]"
   ]
  },
  {
   "cell_type": "markdown",
   "id": "13202f82",
   "metadata": {},
   "source": [
    "<b>Printing the top three authors in each category </b>"
   ]
  },
  {
   "cell_type": "code",
   "execution_count": 4,
   "id": "ed7b659e",
   "metadata": {},
   "outputs": [
    {
     "name": "stdout",
     "output_type": "stream",
     "text": [
      "Top 3 authors in cs.DB (Databases):\n",
      "['Philip S. Yu', 'Wensheng Gan', 'Dan Suciu']\n",
      "\n",
      "Top 3 authors in cs.RO (Robotics):\n",
      "['Roland Siegwart', 'Sven Behnke', 'Dinesh Manocha']\n",
      "\n",
      "Top 3 authors in cs.GR (Graphics):\n",
      "['Dinesh Manocha', 'Yu-Kun Lai', 'Daniel Cohen-Or']\n"
     ]
    }
   ],
   "source": [
    "#printing the top 3 authors for each category\n",
    "print(\"Top 3 authors in cs.DB (Databases):\")\n",
    "print(top_authors['cs.DB'])\n",
    "print(\"\\nTop 3 authors in cs.RO (Robotics):\")\n",
    "print(top_authors['cs.RO'])\n",
    "print(\"\\nTop 3 authors in cs.GR (Graphics):\")\n",
    "print(top_authors['cs.GR'])"
   ]
  }
 ],
 "metadata": {
  "kernelspec": {
   "display_name": "Python 3 (ipykernel)",
   "language": "python",
   "name": "python3"
  },
  "language_info": {
   "codemirror_mode": {
    "name": "ipython",
    "version": 3
   },
   "file_extension": ".py",
   "mimetype": "text/x-python",
   "name": "python",
   "nbconvert_exporter": "python",
   "pygments_lexer": "ipython3",
   "version": "3.9.13"
  }
 },
 "nbformat": 4,
 "nbformat_minor": 5
}
